{
  "nbformat": 4,
  "nbformat_minor": 0,
  "metadata": {
    "colab": {
      "name": "SignAlphabet.ipynb",
      "provenance": [],
      "collapsed_sections": [],
      "authorship_tag": "ABX9TyPa2fGKCbSaVGYqVbEW4Vdx",
      "include_colab_link": true
    },
    "kernelspec": {
      "name": "python3",
      "display_name": "Python 3"
    },
    "language_info": {
      "name": "python"
    }
  },
  "cells": [
    {
      "cell_type": "markdown",
      "metadata": {
        "id": "view-in-github",
        "colab_type": "text"
      },
      "source": [
        "<a href=\"https://colab.research.google.com/github/daalopezm/Sign-Lenguaje-DL/blob/main/SignAlphabet.ipynb\" target=\"_parent\"><img src=\"https://colab.research.google.com/assets/colab-badge.svg\" alt=\"Open In Colab\"/></a>"
      ]
    },
    {
      "cell_type": "code",
      "execution_count": 1,
      "metadata": {
        "colab": {
          "base_uri": "https://localhost:8080/"
        },
        "id": "PaY3FCwI1v4u",
        "outputId": "bbbfacf9-66c1-4ffc-89e0-a0ce2cad79ff"
      },
      "outputs": [
        {
          "output_type": "stream",
          "name": "stdout",
          "text": [
            "Drive already mounted at /content/gdrive/; to attempt to forcibly remount, call drive.mount(\"/content/gdrive/\", force_remount=True).\n"
          ]
        }
      ],
      "source": [
        "from google.colab import drive\n",
        "#drive.mount('/content/gdrive/MyDrive/Portafolio/SignLenguaje/')\n",
        "drive.mount('/content/gdrive/')"
      ]
    },
    {
      "cell_type": "markdown",
      "source": [
        "<h1>Cargando la base de datos</h1>\n",
        "<p>Here we can upload the database that we load in a csv. Each row, is a pixel hence we must do a reshape.</p>"
      ],
      "metadata": {
        "id": "WR_k7xQsPUUR"
      }
    },
    {
      "cell_type": "code",
      "source": [
        "import pandas as pd\n",
        "import os\n",
        "import numpy as np\n",
        "%matplotlib inline\n",
        "import matplotlib.pyplot as plt\n",
        "\n",
        "WORK_DIRECTORY='/content/gdrive/MyDrive/Portafolio/SignLenguaje/'\n",
        "\n",
        "file_train = os.path.join(WORK_DIRECTORY,'sign_mnist_train/sign_mnist_train.csv')\n",
        "file_test = os.path.join(WORK_DIRECTORY,'sign_mnist_test/sign_mnist_test.csv')\n",
        "\n",
        "data_set = {'TRAIN': pd.read_csv(file_train), 'TEST': pd.read_csv(file_test)}"
      ],
      "metadata": {
        "id": "pM1mCPv414QJ"
      },
      "execution_count": 2,
      "outputs": []
    },
    {
      "cell_type": "code",
      "source": [
        "images_csv_train = [np.array(data_set['TRAIN'].iloc[i,1:785],dtype=np.uint8).reshape(28,28) \n",
        "          for i in range(data_set['TRAIN'].shape[0])] \n",
        "images_csv_test = [np.array(data_set['TEST'].iloc[i,1:785],dtype=np.uint8).reshape(28,28) \n",
        "          for i in range(data_set['TEST'].shape[0])] \n",
        "plt.imshow(images_csv_test[8])"
      ],
      "metadata": {
        "colab": {
          "base_uri": "https://localhost:8080/",
          "height": 283
        },
        "id": "_9p9aplc7EHb",
        "outputId": "85bd44eb-9de6-4290-d384-bd7df7df7603"
      },
      "execution_count": 87,
      "outputs": [
        {
          "output_type": "execute_result",
          "data": {
            "text/plain": [
              "<matplotlib.image.AxesImage at 0x7f3013284650>"
            ]
          },
          "metadata": {},
          "execution_count": 87
        },
        {
          "output_type": "display_data",
          "data": {
            "text/plain": [
              "<Figure size 432x288 with 1 Axes>"
            ],
            "image/png": "[encoded data removed]"
          },
          "metadata": {
            "needs_background": "light"
          }
        }
      ]
    },
    {
      "cell_type": "markdown",
      "source": [
        "<h1>Dataset Generators</h1>\n",
        "<p>Memory has a limit, hence it is better to use a python generator. To give a good use to such tool, we must separate the images by their category.</p>"
      ],
      "metadata": {
        "id": "AJUKs_YUQKe7"
      }
    },
    {
      "cell_type": "code",
      "source": [
        "# import os\n",
        "# import shutil\n",
        "# sourcepath='/content/gdrive/MyDrive/'\n",
        "# sourcefiles = os.listdir(sourcepath)\n",
        "# destinationpath = '/content/gdrive/MyDrive/Untitled'\n",
        "\n",
        "# for file in sourcefiles:\n",
        "#     if file.endswith('.jpg'):\n",
        "#         shutil.move(os.path.join(sourcepath,file), os.path.join(destinationpath,file))"
      ],
      "metadata": {
        "id": "X5-xkbFplNvr"
      },
      "execution_count": 16,
      "outputs": []
    },
    {
      "cell_type": "code",
      "source": [
        "from PIL import Image\n",
        "from uuid import uuid4\n",
        "import string"
      ],
      "metadata": {
        "id": "EzlRRR-KnWjJ"
      },
      "execution_count": 3,
      "outputs": []
    },
    {
      "cell_type": "code",
      "source": [
        "paths = {\n",
        "    'TRAIN_LOCATION_IMAGES': os.path.join('data_train'),\n",
        "    'TEST_LOCATION_IMAGES': os.path.join('data_test')\n",
        "}\n",
        "\n",
        "# Creating test-train directories\n",
        "for path in paths.values():\n",
        "  if not os.path.exists(path):\n",
        "    os.makedirs(path)\n",
        "\n",
        "# Defining letters.\n",
        "alphabetic_letters = np.array([char for char in string.ascii_lowercase if char != 'j' if char != 'z']\n",
        ")\n",
        "numeric_letters = np.unique(data_set['TRAIN']['label'])"
      ],
      "metadata": {
        "id": "CrwQ2OyJnNq7"
      },
      "execution_count": 17,
      "outputs": []
    },
    {
      "cell_type": "code",
      "source": [
        "len(alphabetic_letters)"
      ],
      "metadata": {
        "colab": {
          "base_uri": "https://localhost:8080/"
        },
        "id": "16c7aEFlt1nZ",
        "outputId": "f3d77612-0944-4c7d-ccf0-cf1e9ccbd4cd"
      },
      "execution_count": 26,
      "outputs": [
        {
          "output_type": "execute_result",
          "data": {
            "text/plain": [
              "24"
            ]
          },
          "metadata": {},
          "execution_count": 26
        }
      ]
    },
    {
      "cell_type": "code",
      "source": [
        "# Allocating images by category\n",
        "dataset_types = ['TRAIN', 'TEST']\n",
        "for dataset_type in dataset_types:\n",
        "\n",
        "  for letter in numeric_letters:\n",
        "\n",
        "    letra = alphabetic_letters[numeric_letters==letter][0]\n",
        "    \n",
        "    if not os.path.exists(os.path.join(paths[f'{dataset_type}_LOCATION_IMAGES'],f'{letra}')):\n",
        "      os.makedirs(os.path.join(paths[f'{dataset_type}_LOCATION_IMAGES'],f'{letra}'))\n",
        "\n",
        "    df_letter = data_set[dataset_type][data_set[dataset_type]['label']==letter]\n",
        "    for i in range(df_letter['pixel1'].size):\n",
        "      image = np.array(df_letter.iloc[i,1:785], dtype=np.uint8).reshape(28,28)\n",
        "      img = Image.fromarray(image)\n",
        "      img.save(os.path.join(paths[f'{dataset_type}_LOCATION_IMAGES'],f'{letra}',f'{uuid4()}_{letra}.jpg'))\n",
        "  # df_letter.to_csv(os.path.join(paths['TRAIN_LOCATION'],f'{letter}',f'csv{letter}.csv'),index=False)"
      ],
      "metadata": {
        "id": "NYqJUy7Ed6FM"
      },
      "execution_count": 18,
      "outputs": []
    },
    {
      "cell_type": "code",
      "source": [
        "import matplotlib.image as mpimg\n",
        "import tensorflow as tf\n",
        "from tensorflow.keras.preprocessing.image import ImageDataGenerator"
      ],
      "metadata": {
        "id": "rqfNiKkx5YlZ"
      },
      "execution_count": 19,
      "outputs": []
    },
    {
      "cell_type": "code",
      "source": [
        "train_dir = paths['TRAIN_LOCATION_IMAGES']\n",
        "test_dir = paths['TEST_LOCATION_IMAGES']\n",
        "\n",
        "train_datagen = ImageDataGenerator(rescale = 1/255)\n",
        "test_datagen = ImageDataGenerator(rescale = 1/255, validation_split=0.2)\n"
      ],
      "metadata": {
        "id": "-R9Xi3WM52ws"
      },
      "execution_count": 20,
      "outputs": []
    },
    {
      "cell_type": "code",
      "source": [
        "train_generator = train_datagen.flow_from_directory(\n",
        "    train_dir,\n",
        "    target_size = (28,28),\n",
        "    batch_size = 128,\n",
        "    class_mode = 'categorical',\n",
        "    color_mode = 'grayscale',\n",
        "    subset = 'training'\n",
        ")\n",
        "\n",
        "validation_generator = test_datagen.flow_from_directory(\n",
        "    test_dir,\n",
        "    target_size = (28,28),\n",
        "    batch_size = 128,\n",
        "    class_mode = 'categorical',\n",
        "    color_mode = 'grayscale',\n",
        "    subset = 'validation'\n",
        ")\n",
        "\n",
        "test_generator = test_datagen.flow_from_directory(\n",
        "    test_dir,\n",
        "    target_size = (28,28),\n",
        "    batch_size = 128,\n",
        "    class_mode = 'categorical',\n",
        "    color_mode = 'grayscale'\n",
        ")"
      ],
      "metadata": {
        "colab": {
          "base_uri": "https://localhost:8080/"
        },
        "id": "9272H8Zn7Iou",
        "outputId": "90034deb-6e87-4435-97bd-e08536b2582e"
      },
      "execution_count": 21,
      "outputs": [
        {
          "output_type": "stream",
          "name": "stdout",
          "text": [
            "Found 27455 images belonging to 24 classes.\n",
            "Found 1425 images belonging to 24 classes.\n",
            "Found 7172 images belonging to 24 classes.\n"
          ]
        }
      ]
    },
    {
      "cell_type": "code",
      "source": [
        "from IPython.core.pylabtools import figsize\n",
        "def plotImages(images_array):\n",
        "  fig, axes = plt.subplots(nrows=1,ncols=7,figsize=(10,10))\n",
        "  for img, ax in zip(images_array, axes):\n",
        "    ax.imshow(img[:,:,0])\n",
        "  plt.tight_layout()\n",
        "  plt.show()\n"
      ],
      "metadata": {
        "id": "OrloVHn8FV7a"
      },
      "execution_count": 22,
      "outputs": []
    },
    {
      "cell_type": "code",
      "source": [
        "img,_= next(train_generator)\n",
        "plotImages(img)"
      ],
      "metadata": {
        "colab": {
          "base_uri": "https://localhost:8080/",
          "height": 122
        },
        "id": "6V5T3kevIqUT",
        "outputId": "2c5a9c36-f08c-4e6f-8032-67cf7e03e0f0"
      },
      "execution_count": 23,
      "outputs": [
        {
          "output_type": "display_data",
          "data": {
            "text/plain": [
              "<Figure size 720x720 with 7 Axes>"
            ],
            "image/png": "[encoded data removed]"
          },
          "metadata": {
            "needs_background": "light"
          }
        }
      ]
    },
    {
      "cell_type": "code",
      "source": [
        "from PIL import Image\n",
        "import seaborn as sns"
      ],
      "metadata": {
        "id": "aWuP9uF6ULi1"
      },
      "execution_count": 4,
      "outputs": []
    },
    {
      "cell_type": "code",
      "source": [
        "plt.figure(figsize=(10,10))\n",
        "sns.set_style('darkgrid')\n",
        "sns.countplot(data_set_train['label'])\n"
      ],
      "metadata": {
        "colab": {
          "base_uri": "https://localhost:8080/",
          "height": 681
        },
        "id": "KHEi_RHIuBeU",
        "outputId": "2ff041de-a2a6-4827-d07e-e30a7b88ef6a"
      },
      "execution_count": 5,
      "outputs": [
        {
          "output_type": "stream",
          "name": "stderr",
          "text": [
            "/usr/local/lib/python3.7/dist-packages/seaborn/_decorators.py:43: FutureWarning: Pass the following variable as a keyword arg: x. From version 0.12, the only valid positional argument will be `data`, and passing other arguments without an explicit keyword will result in an error or misinterpretation.\n",
            "  FutureWarning\n"
          ]
        },
        {
          "output_type": "execute_result",
          "data": {
            "text/plain": [
              "<matplotlib.axes._subplots.AxesSubplot at 0x7f60b7426f10>"
            ]
          },
          "metadata": {},
          "execution_count": 5
        },
        {
          "output_type": "display_data",
          "data": {
            "text/plain": [
              "<Figure size 720x720 with 1 Axes>"
            ],
            "image/png": "[encoded data removed]"
          },
          "metadata": {
            "needs_background": "light"
          }
        }
      ]
    },
    {
      "cell_type": "code",
      "source": [
        "y_train = data_set_train['label'].values\n",
        "y_test = data_set_test['label'].values"
      ],
      "metadata": {
        "id": "-bgC06clZZUg"
      },
      "execution_count": 6,
      "outputs": []
    },
    {
      "cell_type": "code",
      "source": [
        "del data_set_train['label']\n",
        "del data_set_test['label']"
      ],
      "metadata": {
        "id": "T-5sZoTaaeLM"
      },
      "execution_count": 7,
      "outputs": []
    },
    {
      "cell_type": "markdown",
      "source": [
        "# Cleaning our database"
      ],
      "metadata": {
        "id": "UZKvH4DrbVcU"
      }
    },
    {
      "cell_type": "code",
      "source": [
        "data_set_train.isnull().values.any()"
      ],
      "metadata": {
        "colab": {
          "base_uri": "https://localhost:8080/"
        },
        "id": "I8dnBEM4uSrp",
        "outputId": "a3d0bf5a-8c7e-4245-88e5-db85f50d2f7a"
      },
      "execution_count": 8,
      "outputs": [
        {
          "output_type": "execute_result",
          "data": {
            "text/plain": [
              "False"
            ]
          },
          "metadata": {},
          "execution_count": 8
        }
      ]
    },
    {
      "cell_type": "code",
      "source": [
        "data_set_train[data_set_train.duplicated()]"
      ],
      "metadata": {
        "colab": {
          "base_uri": "https://localhost:8080/",
          "height": 142
        },
        "id": "IbZpsr-IcB5V",
        "outputId": "f96c5e6d-5d54-449c-c74b-8addaeab8c1d"
      },
      "execution_count": 9,
      "outputs": [
        {
          "output_type": "execute_result",
          "data": {
            "text/plain": [
              "Empty DataFrame\n",
              "Columns: [pixel1, pixel2, pixel3, pixel4, pixel5, pixel6, pixel7, pixel8, pixel9, pixel10, pixel11, pixel12, pixel13, pixel14, pixel15, pixel16, pixel17, pixel18, pixel19, pixel20, pixel21, pixel22, pixel23, pixel24, pixel25, pixel26, pixel27, pixel28, pixel29, pixel30, pixel31, pixel32, pixel33, pixel34, pixel35, pixel36, pixel37, pixel38, pixel39, pixel40, pixel41, pixel42, pixel43, pixel44, pixel45, pixel46, pixel47, pixel48, pixel49, pixel50, pixel51, pixel52, pixel53, pixel54, pixel55, pixel56, pixel57, pixel58, pixel59, pixel60, pixel61, pixel62, pixel63, pixel64, pixel65, pixel66, pixel67, pixel68, pixel69, pixel70, pixel71, pixel72, pixel73, pixel74, pixel75, pixel76, pixel77, pixel78, pixel79, pixel80, pixel81, pixel82, pixel83, pixel84, pixel85, pixel86, pixel87, pixel88, pixel89, pixel90, pixel91, pixel92, pixel93, pixel94, pixel95, pixel96, pixel97, pixel98, pixel99, pixel100, ...]\n",
              "Index: []\n",
              "\n",
              "[0 rows x 784 columns]"
            ],
            "text/html": [
              "\n",
              "  <div id=\"df-e7c39165-84ba-4f26-aae0-649422d0878b\">\n",
              "    <div class=\"colab-df-container\">\n",
              "      <div>\n",
              "<style scoped>\n",
              "    .dataframe tbody tr th:only-of-type {\n",
              "        vertical-align: middle;\n",
              "    }\n",
              "\n",
              "    .dataframe tbody tr th {\n",
              "        vertical-align: top;\n",
              "    }\n",
              "\n",
              "    .dataframe thead th {\n",
              "        text-align: right;\n",
              "    }\n",
              "</style>\n",
              "<table border=\"1\" class=\"dataframe\">\n",
              "  <thead>\n",
              "    <tr style=\"text-align: right;\">\n",
              "      <th></th>\n",
              "      <th>pixel1</th>\n",
              "      <th>pixel2</th>\n",
              "      <th>pixel3</th>\n",
              "      <th>pixel4</th>\n",
              "      <th>pixel5</th>\n",
              "      <th>pixel6</th>\n",
              "      <th>pixel7</th>\n",
              "      <th>pixel8</th>\n",
              "      <th>pixel9</th>\n",
              "      <th>pixel10</th>\n",
              "      <th>...</th>\n",
              "      <th>pixel775</th>\n",
              "      <th>pixel776</th>\n",
              "      <th>pixel777</th>\n",
              "      <th>pixel778</th>\n",
              "      <th>pixel779</th>\n",
              "      <th>pixel780</th>\n",
              "      <th>pixel781</th>\n",
              "      <th>pixel782</th>\n",
              "      <th>pixel783</th>\n",
              "      <th>pixel784</th>\n",
              "    </tr>\n",
              "  </thead>\n",
              "  <tbody>\n",
              "  </tbody>\n",
              "</table>\n",
              "<p>0 rows × 784 columns</p>\n",
              "</div>\n",
              "      <button class=\"colab-df-convert\" onclick=\"convertToInteractive('df-e7c39165-84ba-4f26-aae0-649422d0878b')\"\n",
              "              title=\"Convert this dataframe to an interactive table.\"\n",
              "              style=\"display:none;\">\n",
              "        \n",
              "  <svg xmlns=\"http://www.w3.org/2000/svg\" height=\"24px\"viewBox=\"0 0 24 24\"\n",
              "       width=\"24px\">\n",
              "    <path d=\"M0 0h24v24H0V0z\" fill=\"none\"/>\n",
              "    <path d=\"M18.56 5.44l.94 2.06.94-2.06 2.06-.94-2.06-.94-.94-2.06-.94 2.06-2.06.94zm-11 1L8.5 8.5l.94-2.06 2.06-.94-2.06-.94L8.5 2.5l-.94 2.06-2.06.94zm10 10l.94 2.06.94-2.06 2.06-.94-2.06-.94-.94-2.06-.94 2.06-2.06.94z\"/><path d=\"M17.41 7.96l-1.37-1.37c-.4-.4-.92-.59-1.43-.59-.52 0-1.04.2-1.43.59L10.3 9.45l-7.72 7.72c-.78.78-.78 2.05 0 2.83L4 21.41c.39.39.9.59 1.41.59.51 0 1.02-.2 1.41-.59l7.78-7.78 2.81-2.81c.8-.78.8-2.07 0-2.86zM5.41 20L4 18.59l7.72-7.72 1.47 1.35L5.41 20z\"/>\n",
              "  </svg>\n",
              "      </button>\n",
              "      \n",
              "  <style>\n",
              "    .colab-df-container {\n",
              "      display:flex;\n",
              "      flex-wrap:wrap;\n",
              "      gap: 12px;\n",
              "    }\n",
              "\n",
              "    .colab-df-convert {\n",
              "      background-color: #E8F0FE;\n",
              "      border: none;\n",
              "      border-radius: 50%;\n",
              "      cursor: pointer;\n",
              "      display: none;\n",
              "      fill: #1967D2;\n",
              "      height: 32px;\n",
              "      padding: 0 0 0 0;\n",
              "      width: 32px;\n",
              "    }\n",
              "\n",
              "    .colab-df-convert:hover {\n",
              "      background-color: #E2EBFA;\n",
              "      box-shadow: 0px 1px 2px rgba(60, 64, 67, 0.3), 0px 1px 3px 1px rgba(60, 64, 67, 0.15);\n",
              "      fill: #174EA6;\n",
              "    }\n",
              "\n",
              "    [theme=dark] .colab-df-convert {\n",
              "      background-color: #3B4455;\n",
              "      fill: #D2E3FC;\n",
              "    }\n",
              "\n",
              "    [theme=dark] .colab-df-convert:hover {\n",
              "      background-color: #434B5C;\n",
              "      box-shadow: 0px 1px 3px 1px rgba(0, 0, 0, 0.15);\n",
              "      filter: drop-shadow(0px 1px 2px rgba(0, 0, 0, 0.3));\n",
              "      fill: #FFFFFF;\n",
              "    }\n",
              "  </style>\n",
              "\n",
              "      <script>\n",
              "        const buttonEl =\n",
              "          document.querySelector('#df-e7c39165-84ba-4f26-aae0-649422d0878b button.colab-df-convert');\n",
              "        buttonEl.style.display =\n",
              "          google.colab.kernel.accessAllowed ? 'block' : 'none';\n",
              "\n",
              "        async function convertToInteractive(key) {\n",
              "          const element = document.querySelector('#df-e7c39165-84ba-4f26-aae0-649422d0878b');\n",
              "          const dataTable =\n",
              "            await google.colab.kernel.invokeFunction('convertToInteractive',\n",
              "                                                     [key], {});\n",
              "          if (!dataTable) return;\n",
              "\n",
              "          const docLinkHtml = 'Like what you see? Visit the ' +\n",
              "            '<a target=\"_blank\" href=https://colab.research.google.com/notebooks/data_table.ipynb>data table notebook</a>'\n",
              "            + ' to learn more about interactive tables.';\n",
              "          element.innerHTML = '';\n",
              "          dataTable['output_type'] = 'display_data';\n",
              "          await google.colab.output.renderOutput(dataTable, element);\n",
              "          const docLink = document.createElement('div');\n",
              "          docLink.innerHTML = docLinkHtml;\n",
              "          element.appendChild(docLink);\n",
              "        }\n",
              "      </script>\n",
              "    </div>\n",
              "  </div>\n",
              "  "
            ]
          },
          "metadata": {},
          "execution_count": 9
        }
      ]
    },
    {
      "cell_type": "code",
      "source": [
        "data_set_train.dtypes"
      ],
      "metadata": {
        "colab": {
          "base_uri": "https://localhost:8080/"
        },
        "id": "nCJ-qkuoe1gV",
        "outputId": "2855e11c-7360-4774-bebf-c2a4a757bbca"
      },
      "execution_count": 10,
      "outputs": [
        {
          "output_type": "execute_result",
          "data": {
            "text/plain": [
              "pixel1      int64\n",
              "pixel2      int64\n",
              "pixel3      int64\n",
              "pixel4      int64\n",
              "pixel5      int64\n",
              "            ...  \n",
              "pixel780    int64\n",
              "pixel781    int64\n",
              "pixel782    int64\n",
              "pixel783    int64\n",
              "pixel784    int64\n",
              "Length: 784, dtype: object"
            ]
          },
          "metadata": {},
          "execution_count": 10
        }
      ]
    },
    {
      "cell_type": "code",
      "source": [
        "data_set_train.select_dtypes(include=['int64'])"
      ],
      "metadata": {
        "colab": {
          "base_uri": "https://localhost:8080/",
          "height": 487
        },
        "id": "qm1TsFgQcer6",
        "outputId": "322506d7-ebce-4d0d-e8fa-5c0b84774c9e"
      },
      "execution_count": 34,
      "outputs": [
        {
          "output_type": "execute_result",
          "data": {
            "text/plain": [
              "       pixel1  pixel2  pixel3  pixel4  pixel5  pixel6  pixel7  pixel8  pixel9  \\\n",
              "0         107     118     127     134     139     143     146     150     153   \n",
              "1         155     157     156     156     156     157     156     158     158   \n",
              "2         187     188     188     187     187     186     187     188     187   \n",
              "3         211     211     212     212     211     210     211     210     210   \n",
              "4         164     167     170     172     176     179     180     184     185   \n",
              "...       ...     ...     ...     ...     ...     ...     ...     ...     ...   \n",
              "27450     189     189     190     190     192     193     193     193     193   \n",
              "27451     151     154     157     158     160     161     163     164     166   \n",
              "27452     174     174     174     174     174     175     175     174     173   \n",
              "27453     177     181     184     185     187     189     190     191     191   \n",
              "27454     179     180     180     180     182     181     182     183     182   \n",
              "\n",
              "       pixel10  ...  pixel775  pixel776  pixel777  pixel778  pixel779  \\\n",
              "0          156  ...       207       207       207       207       206   \n",
              "1          157  ...        69       149       128        87        94   \n",
              "2          186  ...       202       201       200       199       198   \n",
              "3          211  ...       235       234       233       231       230   \n",
              "4          186  ...        92       105       105       108       133   \n",
              "...        ...  ...       ...       ...       ...       ...       ...   \n",
              "27450      194  ...       132       165        99        77        52   \n",
              "27451      167  ...       198       198       198       198       198   \n",
              "27452      173  ...       121       196       209       208       206   \n",
              "27453      190  ...       119        56        27        58       102   \n",
              "27454      182  ...       108       132       170       194       214   \n",
              "\n",
              "       pixel780  pixel781  pixel782  pixel783  pixel784  \n",
              "0           206       206       204       203       202  \n",
              "1           163       175       103       135       149  \n",
              "2           199       198       195       194       195  \n",
              "3           226       225       222       229       163  \n",
              "4           163       157       163       164       179  \n",
              "...         ...       ...       ...       ...       ...  \n",
              "27450       200       234       200       222       225  \n",
              "27451       196       195       195       195       194  \n",
              "27452       204       203       202       200       200  \n",
              "27453        79        47        64        87        93  \n",
              "27454       203       197       205       209       215  \n",
              "\n",
              "[27455 rows x 784 columns]"
            ],
            "text/html": [
              "\n",
              "  <div id=\"df-ff659ab9-cc97-4de0-b3f4-cd92f8dc93f0\">\n",
              "    <div class=\"colab-df-container\">\n",
              "      <div>\n",
              "<style scoped>\n",
              "    .dataframe tbody tr th:only-of-type {\n",
              "        vertical-align: middle;\n",
              "    }\n",
              "\n",
              "    .dataframe tbody tr th {\n",
              "        vertical-align: top;\n",
              "    }\n",
              "\n",
              "    .dataframe thead th {\n",
              "        text-align: right;\n",
              "    }\n",
              "</style>\n",
              "<table border=\"1\" class=\"dataframe\">\n",
              "  <thead>\n",
              "    <tr style=\"text-align: right;\">\n",
              "      <th></th>\n",
              "      <th>pixel1</th>\n",
              "      <th>pixel2</th>\n",
              "      <th>pixel3</th>\n",
              "      <th>pixel4</th>\n",
              "      <th>pixel5</th>\n",
              "      <th>pixel6</th>\n",
              "      <th>pixel7</th>\n",
              "      <th>pixel8</th>\n",
              "      <th>pixel9</th>\n",
              "      <th>pixel10</th>\n",
              "      <th>...</th>\n",
              "      <th>pixel775</th>\n",
              "      <th>pixel776</th>\n",
              "      <th>pixel777</th>\n",
              "      <th>pixel778</th>\n",
              "      <th>pixel779</th>\n",
              "      <th>pixel780</th>\n",
              "      <th>pixel781</th>\n",
              "      <th>pixel782</th>\n",
              "      <th>pixel783</th>\n",
              "      <th>pixel784</th>\n",
              "    </tr>\n",
              "  </thead>\n",
              "  <tbody>\n",
              "    <tr>\n",
              "      <th>0</th>\n",
              "      <td>107</td>\n",
              "      <td>118</td>\n",
              "      <td>127</td>\n",
              "      <td>134</td>\n",
              "      <td>139</td>\n",
              "      <td>143</td>\n",
              "      <td>146</td>\n",
              "      <td>150</td>\n",
              "      <td>153</td>\n",
              "      <td>156</td>\n",
              "      <td>...</td>\n",
              "      <td>207</td>\n",
              "      <td>207</td>\n",
              "      <td>207</td>\n",
              "      <td>207</td>\n",
              "      <td>206</td>\n",
              "      <td>206</td>\n",
              "      <td>206</td>\n",
              "      <td>204</td>\n",
              "      <td>203</td>\n",
              "      <td>202</td>\n",
              "    </tr>\n",
              "    <tr>\n",
              "      <th>1</th>\n",
              "      <td>155</td>\n",
              "      <td>157</td>\n",
              "      <td>156</td>\n",
              "      <td>156</td>\n",
              "      <td>156</td>\n",
              "      <td>157</td>\n",
              "      <td>156</td>\n",
              "      <td>158</td>\n",
              "      <td>158</td>\n",
              "      <td>157</td>\n",
              "      <td>...</td>\n",
              "      <td>69</td>\n",
              "      <td>149</td>\n",
              "      <td>128</td>\n",
              "      <td>87</td>\n",
              "      <td>94</td>\n",
              "      <td>163</td>\n",
              "      <td>175</td>\n",
              "      <td>103</td>\n",
              "      <td>135</td>\n",
              "      <td>149</td>\n",
              "    </tr>\n",
              "    <tr>\n",
              "      <th>2</th>\n",
              "      <td>187</td>\n",
              "      <td>188</td>\n",
              "      <td>188</td>\n",
              "      <td>187</td>\n",
              "      <td>187</td>\n",
              "      <td>186</td>\n",
              "      <td>187</td>\n",
              "      <td>188</td>\n",
              "      <td>187</td>\n",
              "      <td>186</td>\n",
              "      <td>...</td>\n",
              "      <td>202</td>\n",
              "      <td>201</td>\n",
              "      <td>200</td>\n",
              "      <td>199</td>\n",
              "      <td>198</td>\n",
              "      <td>199</td>\n",
              "      <td>198</td>\n",
              "      <td>195</td>\n",
              "      <td>194</td>\n",
              "      <td>195</td>\n",
              "    </tr>\n",
              "    <tr>\n",
              "      <th>3</th>\n",
              "      <td>211</td>\n",
              "      <td>211</td>\n",
              "      <td>212</td>\n",
              "      <td>212</td>\n",
              "      <td>211</td>\n",
              "      <td>210</td>\n",
              "      <td>211</td>\n",
              "      <td>210</td>\n",
              "      <td>210</td>\n",
              "      <td>211</td>\n",
              "      <td>...</td>\n",
              "      <td>235</td>\n",
              "      <td>234</td>\n",
              "      <td>233</td>\n",
              "      <td>231</td>\n",
              "      <td>230</td>\n",
              "      <td>226</td>\n",
              "      <td>225</td>\n",
              "      <td>222</td>\n",
              "      <td>229</td>\n",
              "      <td>163</td>\n",
              "    </tr>\n",
              "    <tr>\n",
              "      <th>4</th>\n",
              "      <td>164</td>\n",
              "      <td>167</td>\n",
              "      <td>170</td>\n",
              "      <td>172</td>\n",
              "      <td>176</td>\n",
              "      <td>179</td>\n",
              "      <td>180</td>\n",
              "      <td>184</td>\n",
              "      <td>185</td>\n",
              "      <td>186</td>\n",
              "      <td>...</td>\n",
              "      <td>92</td>\n",
              "      <td>105</td>\n",
              "      <td>105</td>\n",
              "      <td>108</td>\n",
              "      <td>133</td>\n",
              "      <td>163</td>\n",
              "      <td>157</td>\n",
              "      <td>163</td>\n",
              "      <td>164</td>\n",
              "      <td>179</td>\n",
              "    </tr>\n",
              "    <tr>\n",
              "      <th>...</th>\n",
              "      <td>...</td>\n",
              "      <td>...</td>\n",
              "      <td>...</td>\n",
              "      <td>...</td>\n",
              "      <td>...</td>\n",
              "      <td>...</td>\n",
              "      <td>...</td>\n",
              "      <td>...</td>\n",
              "      <td>...</td>\n",
              "      <td>...</td>\n",
              "      <td>...</td>\n",
              "      <td>...</td>\n",
              "      <td>...</td>\n",
              "      <td>...</td>\n",
              "      <td>...</td>\n",
              "      <td>...</td>\n",
              "      <td>...</td>\n",
              "      <td>...</td>\n",
              "      <td>...</td>\n",
              "      <td>...</td>\n",
              "      <td>...</td>\n",
              "    </tr>\n",
              "    <tr>\n",
              "      <th>27450</th>\n",
              "      <td>189</td>\n",
              "      <td>189</td>\n",
              "      <td>190</td>\n",
              "      <td>190</td>\n",
              "      <td>192</td>\n",
              "      <td>193</td>\n",
              "      <td>193</td>\n",
              "      <td>193</td>\n",
              "      <td>193</td>\n",
              "      <td>194</td>\n",
              "      <td>...</td>\n",
              "      <td>132</td>\n",
              "      <td>165</td>\n",
              "      <td>99</td>\n",
              "      <td>77</td>\n",
              "      <td>52</td>\n",
              "      <td>200</td>\n",
              "      <td>234</td>\n",
              "      <td>200</td>\n",
              "      <td>222</td>\n",
              "      <td>225</td>\n",
              "    </tr>\n",
              "    <tr>\n",
              "      <th>27451</th>\n",
              "      <td>151</td>\n",
              "      <td>154</td>\n",
              "      <td>157</td>\n",
              "      <td>158</td>\n",
              "      <td>160</td>\n",
              "      <td>161</td>\n",
              "      <td>163</td>\n",
              "      <td>164</td>\n",
              "      <td>166</td>\n",
              "      <td>167</td>\n",
              "      <td>...</td>\n",
              "      <td>198</td>\n",
              "      <td>198</td>\n",
              "      <td>198</td>\n",
              "      <td>198</td>\n",
              "      <td>198</td>\n",
              "      <td>196</td>\n",
              "      <td>195</td>\n",
              "      <td>195</td>\n",
              "      <td>195</td>\n",
              "      <td>194</td>\n",
              "    </tr>\n",
              "    <tr>\n",
              "      <th>27452</th>\n",
              "      <td>174</td>\n",
              "      <td>174</td>\n",
              "      <td>174</td>\n",
              "      <td>174</td>\n",
              "      <td>174</td>\n",
              "      <td>175</td>\n",
              "      <td>175</td>\n",
              "      <td>174</td>\n",
              "      <td>173</td>\n",
              "      <td>173</td>\n",
              "      <td>...</td>\n",
              "      <td>121</td>\n",
              "      <td>196</td>\n",
              "      <td>209</td>\n",
              "      <td>208</td>\n",
              "      <td>206</td>\n",
              "      <td>204</td>\n",
              "      <td>203</td>\n",
              "      <td>202</td>\n",
              "      <td>200</td>\n",
              "      <td>200</td>\n",
              "    </tr>\n",
              "    <tr>\n",
              "      <th>27453</th>\n",
              "      <td>177</td>\n",
              "      <td>181</td>\n",
              "      <td>184</td>\n",
              "      <td>185</td>\n",
              "      <td>187</td>\n",
              "      <td>189</td>\n",
              "      <td>190</td>\n",
              "      <td>191</td>\n",
              "      <td>191</td>\n",
              "      <td>190</td>\n",
              "      <td>...</td>\n",
              "      <td>119</td>\n",
              "      <td>56</td>\n",
              "      <td>27</td>\n",
              "      <td>58</td>\n",
              "      <td>102</td>\n",
              "      <td>79</td>\n",
              "      <td>47</td>\n",
              "      <td>64</td>\n",
              "      <td>87</td>\n",
              "      <td>93</td>\n",
              "    </tr>\n",
              "    <tr>\n",
              "      <th>27454</th>\n",
              "      <td>179</td>\n",
              "      <td>180</td>\n",
              "      <td>180</td>\n",
              "      <td>180</td>\n",
              "      <td>182</td>\n",
              "      <td>181</td>\n",
              "      <td>182</td>\n",
              "      <td>183</td>\n",
              "      <td>182</td>\n",
              "      <td>182</td>\n",
              "      <td>...</td>\n",
              "      <td>108</td>\n",
              "      <td>132</td>\n",
              "      <td>170</td>\n",
              "      <td>194</td>\n",
              "      <td>214</td>\n",
              "      <td>203</td>\n",
              "      <td>197</td>\n",
              "      <td>205</td>\n",
              "      <td>209</td>\n",
              "      <td>215</td>\n",
              "    </tr>\n",
              "  </tbody>\n",
              "</table>\n",
              "<p>27455 rows × 784 columns</p>\n",
              "</div>\n",
              "      <button class=\"colab-df-convert\" onclick=\"convertToInteractive('df-ff659ab9-cc97-4de0-b3f4-cd92f8dc93f0')\"\n",
              "              title=\"Convert this dataframe to an interactive table.\"\n",
              "              style=\"display:none;\">\n",
              "        \n",
              "  <svg xmlns=\"http://www.w3.org/2000/svg\" height=\"24px\"viewBox=\"0 0 24 24\"\n",
              "       width=\"24px\">\n",
              "    <path d=\"M0 0h24v24H0V0z\" fill=\"none\"/>\n",
              "    <path d=\"M18.56 5.44l.94 2.06.94-2.06 2.06-.94-2.06-.94-.94-2.06-.94 2.06-2.06.94zm-11 1L8.5 8.5l.94-2.06 2.06-.94-2.06-.94L8.5 2.5l-.94 2.06-2.06.94zm10 10l.94 2.06.94-2.06 2.06-.94-2.06-.94-.94-2.06-.94 2.06-2.06.94z\"/><path d=\"M17.41 7.96l-1.37-1.37c-.4-.4-.92-.59-1.43-.59-.52 0-1.04.2-1.43.59L10.3 9.45l-7.72 7.72c-.78.78-.78 2.05 0 2.83L4 21.41c.39.39.9.59 1.41.59.51 0 1.02-.2 1.41-.59l7.78-7.78 2.81-2.81c.8-.78.8-2.07 0-2.86zM5.41 20L4 18.59l7.72-7.72 1.47 1.35L5.41 20z\"/>\n",
              "  </svg>\n",
              "      </button>\n",
              "      \n",
              "  <style>\n",
              "    .colab-df-container {\n",
              "      display:flex;\n",
              "      flex-wrap:wrap;\n",
              "      gap: 12px;\n",
              "    }\n",
              "\n",
              "    .colab-df-convert {\n",
              "      background-color: #E8F0FE;\n",
              "      border: none;\n",
              "      border-radius: 50%;\n",
              "      cursor: pointer;\n",
              "      display: none;\n",
              "      fill: #1967D2;\n",
              "      height: 32px;\n",
              "      padding: 0 0 0 0;\n",
              "      width: 32px;\n",
              "    }\n",
              "\n",
              "    .colab-df-convert:hover {\n",
              "      background-color: #E2EBFA;\n",
              "      box-shadow: 0px 1px 2px rgba(60, 64, 67, 0.3), 0px 1px 3px 1px rgba(60, 64, 67, 0.15);\n",
              "      fill: #174EA6;\n",
              "    }\n",
              "\n",
              "    [theme=dark] .colab-df-convert {\n",
              "      background-color: #3B4455;\n",
              "      fill: #D2E3FC;\n",
              "    }\n",
              "\n",
              "    [theme=dark] .colab-df-convert:hover {\n",
              "      background-color: #434B5C;\n",
              "      box-shadow: 0px 1px 3px 1px rgba(0, 0, 0, 0.15);\n",
              "      filter: drop-shadow(0px 1px 2px rgba(0, 0, 0, 0.3));\n",
              "      fill: #FFFFFF;\n",
              "    }\n",
              "  </style>\n",
              "\n",
              "      <script>\n",
              "        const buttonEl =\n",
              "          document.querySelector('#df-ff659ab9-cc97-4de0-b3f4-cd92f8dc93f0 button.colab-df-convert');\n",
              "        buttonEl.style.display =\n",
              "          google.colab.kernel.accessAllowed ? 'block' : 'none';\n",
              "\n",
              "        async function convertToInteractive(key) {\n",
              "          const element = document.querySelector('#df-ff659ab9-cc97-4de0-b3f4-cd92f8dc93f0');\n",
              "          const dataTable =\n",
              "            await google.colab.kernel.invokeFunction('convertToInteractive',\n",
              "                                                     [key], {});\n",
              "          if (!dataTable) return;\n",
              "\n",
              "          const docLinkHtml = 'Like what you see? Visit the ' +\n",
              "            '<a target=\"_blank\" href=https://colab.research.google.com/notebooks/data_table.ipynb>data table notebook</a>'\n",
              "            + ' to learn more about interactive tables.';\n",
              "          element.innerHTML = '';\n",
              "          dataTable['output_type'] = 'display_data';\n",
              "          await google.colab.output.renderOutput(dataTable, element);\n",
              "          const docLink = document.createElement('div');\n",
              "          docLink.innerHTML = docLinkHtml;\n",
              "          element.appendChild(docLink);\n",
              "        }\n",
              "      </script>\n",
              "    </div>\n",
              "  </div>\n",
              "  "
            ]
          },
          "metadata": {},
          "execution_count": 34
        }
      ]
    },
    {
      "cell_type": "markdown",
      "source": [
        "<h1>Neural Network Model</h1>\n",
        "<p>Here we create our model. Because we will work with many models, lets call the first as <i>model_base</i>.\n",
        "\n",
        "The layers should be stacked in a list. The first layer is the entry.\n",
        "\n",
        "This entry is:\n",
        "<i>tf.keras.layers.Flatten</i>\n",
        "<b>Flatten</b> indicates that the images, which in this case are $28\\times 28$, can be seen as a column vector.\n",
        "\n",
        "The size of the output, should be of the number of classes, which in our case is:\n",
        "*len(alphabetic_letters)*\n",
        "</p>"
      ],
      "metadata": {
        "id": "5qEfnKHVq62-"
      }
    },
    {
      "cell_type": "code",
      "source": [
        "model_base = tf.keras.models.Sequential([\n",
        "      tf.keras.layers.Flatten(input_shape=(28,28,1)),\n",
        "      tf.keras.layers.Dense(256, activation='relu'),\n",
        "      tf.keras.layers.Dense(128, activation='relu'),\n",
        "      tf.keras.layers.Dense(len(alphabetic_letters))\n",
        "    ])"
      ],
      "metadata": {
        "id": "BwOdJrr7Fij4"
      },
      "execution_count": 28,
      "outputs": []
    },
    {
      "cell_type": "code",
      "source": [
        "model_base.summary()"
      ],
      "metadata": {
        "colab": {
          "base_uri": "https://localhost:8080/"
        },
        "id": "RT8yHnZ6uPuw",
        "outputId": "be1950cc-c718-436f-a340-af2b0baee3bb"
      },
      "execution_count": 31,
      "outputs": [
        {
          "output_type": "stream",
          "name": "stdout",
          "text": [
            "Model: \"sequential\"\n",
            "_________________________________________________________________\n",
            " Layer (type)                Output Shape              Param #   \n",
            "=================================================================\n",
            " flatten (Flatten)           (None, 784)               0         \n",
            "                                                                 \n",
            " dense (Dense)               (None, 256)               200960    \n",
            "                                                                 \n",
            " dense_1 (Dense)             (None, 128)               32896     \n",
            "                                                                 \n",
            " dense_2 (Dense)             (None, 24)                3096      \n",
            "                                                                 \n",
            "=================================================================\n",
            "Total params: 236,952\n",
            "Trainable params: 236,952\n",
            "Non-trainable params: 0\n",
            "_________________________________________________________________\n"
          ]
        }
      ]
    },
    {
      "cell_type": "markdown",
      "source": [
        "<h3>Optimizer</h3>\n",
        "<p>Here we choose the our optimizer, namely how, the gradient descent will be applied. Addam optimizer varies the learning rate, it is computationally demmand, but fastter in some cases. \n",
        "</p>\n",
        "\n",
        "<h3>Loss function</h3>\n",
        "<p>categorical_crossentropy is widely used to classify, hence, we select such loss function for our problem, due its own characteristics.</p>"
      ],
      "metadata": {
        "id": "tE17u3-uvKk2"
      }
    },
    {
      "cell_type": "code",
      "source": [
        "model_base.compile(optimizer = 'adam', loss='categorical_crossentropy',\n",
        "                   metrics = ['accuracy'])\n",
        "\n",
        "trainner = model_base.fit(\n",
        "    train_generator,\n",
        "    epochs = 20,\n",
        "    validation_data = validation_generator\n",
        ")"
      ],
      "metadata": {
        "colab": {
          "base_uri": "https://localhost:8080/"
        },
        "id": "QcvX9bcWvAo1",
        "outputId": "e4ba237e-c360-486b-bc28-5de5124af516"
      },
      "execution_count": 32,
      "outputs": [
        {
          "output_type": "stream",
          "name": "stdout",
          "text": [
            "Epoch 1/20\n",
            "215/215 [==============================] - 13s 56ms/step - loss: 7.4100 - accuracy: 0.0543 - val_loss: 7.3521 - val_accuracy: 0.0393\n",
            "Epoch 2/20\n",
            "215/215 [==============================] - 8s 37ms/step - loss: 6.9016 - accuracy: 0.0553 - val_loss: 7.3521 - val_accuracy: 0.0393\n",
            "Epoch 3/20\n",
            "215/215 [==============================] - 8s 36ms/step - loss: 6.9016 - accuracy: 0.0553 - val_loss: 7.3521 - val_accuracy: 0.0393\n",
            "Epoch 4/20\n",
            "215/215 [==============================] - 8s 37ms/step - loss: 6.9016 - accuracy: 0.0553 - val_loss: 7.3521 - val_accuracy: 0.0393\n",
            "Epoch 5/20\n",
            "215/215 [==============================] - 8s 37ms/step - loss: 6.9016 - accuracy: 0.0553 - val_loss: 7.3521 - val_accuracy: 0.0393\n",
            "Epoch 6/20\n",
            "215/215 [==============================] - 8s 36ms/step - loss: 6.9016 - accuracy: 0.0553 - val_loss: 7.3521 - val_accuracy: 0.0393\n",
            "Epoch 7/20\n",
            "215/215 [==============================] - 8s 37ms/step - loss: 6.9016 - accuracy: 0.0553 - val_loss: 7.3521 - val_accuracy: 0.0393\n",
            "Epoch 8/20\n",
            "215/215 [==============================] - 8s 38ms/step - loss: 6.9016 - accuracy: 0.0553 - val_loss: 7.3521 - val_accuracy: 0.0393\n",
            "Epoch 9/20\n",
            "215/215 [==============================] - 8s 38ms/step - loss: 6.9016 - accuracy: 0.0553 - val_loss: 7.3521 - val_accuracy: 0.0393\n",
            "Epoch 10/20\n",
            "215/215 [==============================] - 8s 36ms/step - loss: 6.9016 - accuracy: 0.0553 - val_loss: 7.3521 - val_accuracy: 0.0393\n",
            "Epoch 11/20\n",
            "215/215 [==============================] - 8s 38ms/step - loss: 6.9016 - accuracy: 0.0553 - val_loss: 7.3521 - val_accuracy: 0.0393\n",
            "Epoch 12/20\n",
            "215/215 [==============================] - 8s 38ms/step - loss: 6.9016 - accuracy: 0.0553 - val_loss: 7.3521 - val_accuracy: 0.0393\n",
            "Epoch 13/20\n",
            "215/215 [==============================] - 8s 36ms/step - loss: 6.9016 - accuracy: 0.0553 - val_loss: 7.3521 - val_accuracy: 0.0393\n",
            "Epoch 14/20\n",
            "215/215 [==============================] - 8s 37ms/step - loss: 6.9016 - accuracy: 0.0553 - val_loss: 7.3521 - val_accuracy: 0.0393\n",
            "Epoch 15/20\n",
            "215/215 [==============================] - 8s 37ms/step - loss: 6.9016 - accuracy: 0.0553 - val_loss: 7.3521 - val_accuracy: 0.0393\n",
            "Epoch 16/20\n",
            "215/215 [==============================] - 8s 36ms/step - loss: 6.9016 - accuracy: 0.0553 - val_loss: 7.3521 - val_accuracy: 0.0393\n",
            "Epoch 17/20\n",
            "215/215 [==============================] - 8s 37ms/step - loss: 6.9016 - accuracy: 0.0553 - val_loss: 7.3521 - val_accuracy: 0.0393\n",
            "Epoch 18/20\n",
            "215/215 [==============================] - 8s 36ms/step - loss: 6.9016 - accuracy: 0.0553 - val_loss: 7.3521 - val_accuracy: 0.0393\n",
            "Epoch 19/20\n",
            "215/215 [==============================] - 8s 36ms/step - loss: 6.9016 - accuracy: 0.0553 - val_loss: 7.3521 - val_accuracy: 0.0393\n",
            "Epoch 20/20\n",
            "215/215 [==============================] - 8s 36ms/step - loss: 6.9016 - accuracy: 0.0553 - val_loss: 7.3521 - val_accuracy: 0.0393\n"
          ]
        }
      ]
    },
    {
      "cell_type": "code",
      "source": [
        ""
      ],
      "metadata": {
        "id": "9_zr_5KNwxbg"
      },
      "execution_count": null,
      "outputs": []
    }
  ]
}