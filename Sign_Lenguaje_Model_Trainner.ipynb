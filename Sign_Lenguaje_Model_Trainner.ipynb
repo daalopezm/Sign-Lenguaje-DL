{
  "nbformat": 4,
  "nbformat_minor": 0,
  "metadata": {
    "colab": {
      "name": "Sign_Lenguaje_Model_Trainner.ipynb",
      "provenance": [],
      "authorship_tag": "ABX9TyNqIyd9ywaayMAK6SUsYwPI",
      "include_colab_link": true
    },
    "kernelspec": {
      "name": "python3",
      "display_name": "Python 3"
    },
    "language_info": {
      "name": "python"
    }
  },
  "cells": [
    {
      "cell_type": "markdown",
      "metadata": {
        "id": "view-in-github",
        "colab_type": "text"
      },
      "source": [
        "<a href=\"https://colab.research.google.com/github/daalopezm/Sign-Lenguaje-DL/blob/main/Sign_Lenguaje_Model_Trainner.ipynb\" target=\"_parent\"><img src=\"https://colab.research.google.com/assets/colab-badge.svg\" alt=\"Open In Colab\"/></a>"
      ]
    },
    {
      "cell_type": "code",
      "source": [
        "from google.colab import drive\n",
        "#drive.mount('/content/gdrive/MyDrive/Portafolio/SignLenguaje/')\n",
        "drive.mount('/content/gdrive/')"
      ],
      "metadata": {
        "colab": {
          "base_uri": "https://localhost:8080/"
        },
        "id": "cVmanalTH23c",
        "outputId": "43dd57a6-3442-4c59-ef79-8c80a4b29258"
      },
      "execution_count": 1,
      "outputs": [
        {
          "output_type": "stream",
          "name": "stdout",
          "text": [
            "Mounted at /content/gdrive/\n"
          ]
        }
      ]
    },
    {
      "cell_type": "markdown",
      "source": [
        "<h1>Loadding the database</h1>\n",
        "<p>Here we can upload the database that we load in a csv. Each row, is a pixel hence we must do a reshape.\n",
        "\n",
        "To do that, we must import pandas to load the csv. </p>"
      ],
      "metadata": {
        "id": "epd85xE0H-OO"
      }
    },
    {
      "cell_type": "code",
      "execution_count": 2,
      "metadata": {
        "id": "gPtMeDa_HV-Y"
      },
      "outputs": [],
      "source": [
        "import pandas as pd\n",
        "import os\n",
        "import numpy as np\n",
        "%matplotlib inline\n",
        "import matplotlib.pyplot as plt\n",
        "\n",
        "WORK_DIRECTORY='/content/gdrive/MyDrive/Portafolio/SignLenguaje/'\n",
        "\n",
        "file_train = os.path.join(WORK_DIRECTORY,'sign_mnist_train/sign_mnist_train.csv')\n",
        "file_test = os.path.join(WORK_DIRECTORY,'sign_mnist_test/sign_mnist_test.csv')\n",
        "\n",
        "data_set = {'TRAIN': pd.read_csv(file_train), 'TEST': pd.read_csv(file_test)}"
      ]
    },
    {
      "cell_type": "markdown",
      "source": [
        "<h1>Dataset Generators</h1>\n",
        "<p>Memory has a limit, hence it is better to use a python generator. To give a good use to such tool, we must separate the images by their category.</p>"
      ],
      "metadata": {
        "id": "ZRKewwkDJL5H"
      }
    },
    {
      "cell_type": "code",
      "source": [
        "from PIL import Image\n",
        "from uuid import uuid4\n",
        "import string"
      ],
      "metadata": {
        "id": "YlWhwLLQJLHh"
      },
      "execution_count": 3,
      "outputs": []
    },
    {
      "cell_type": "code",
      "source": [
        "paths = {\n",
        "    'TRAIN_LOCATION_IMAGES': os.path.join('data_train'),\n",
        "    'TEST_LOCATION_IMAGES': os.path.join('data_test')\n",
        "}\n",
        "\n",
        "# Creating test-train directories\n",
        "for path in paths.values():\n",
        "  if not os.path.exists(path):\n",
        "    os.makedirs(path)\n",
        "\n",
        "# Defining letters.\n",
        "alphabetic_letters = np.array([char for char in string.ascii_lowercase if char != 'j' if char != 'z']\n",
        ")\n",
        "numeric_letters = np.unique(data_set['TRAIN']['label'])"
      ],
      "metadata": {
        "id": "cg5eKvfJJhSC"
      },
      "execution_count": 4,
      "outputs": []
    },
    {
      "cell_type": "code",
      "source": [
        "# Allocating images by category\n",
        "dataset_types = ['TRAIN', 'TEST']\n",
        "for dataset_type in dataset_types:\n",
        "\n",
        "  for letter in numeric_letters:\n",
        "\n",
        "    letra = alphabetic_letters[numeric_letters==letter][0]\n",
        "    \n",
        "    if not os.path.exists(os.path.join(paths[f'{dataset_type}_LOCATION_IMAGES'],f'{letra}')):\n",
        "      os.makedirs(os.path.join(paths[f'{dataset_type}_LOCATION_IMAGES'],f'{letra}'))\n",
        "\n",
        "    df_letter = data_set[dataset_type][data_set[dataset_type]['label']==letter]\n",
        "    for i in range(df_letter['pixel1'].size):\n",
        "      image = np.array(df_letter.iloc[i,1:785], dtype=np.uint8).reshape(28,28)\n",
        "      img = Image.fromarray(image)\n",
        "      img.save(os.path.join(paths[f'{dataset_type}_LOCATION_IMAGES'],f'{letra}',f'{uuid4()}_{letra}.jpg'))"
      ],
      "metadata": {
        "id": "R9pOFNhaKKd9"
      },
      "execution_count": 5,
      "outputs": []
    },
    {
      "cell_type": "code",
      "source": [
        "import matplotlib.image as mpimg\n",
        "import tensorflow as tf\n",
        "from tensorflow.keras.preprocessing.image import ImageDataGenerator"
      ],
      "metadata": {
        "id": "gu8D_1YvKbqQ"
      },
      "execution_count": 6,
      "outputs": []
    },
    {
      "cell_type": "code",
      "source": [
        "train_dir = paths['TRAIN_LOCATION_IMAGES']\n",
        "test_dir = paths['TEST_LOCATION_IMAGES']\n",
        "\n",
        "train_datagen = ImageDataGenerator(rescale = 1/255)\n",
        "test_datagen = ImageDataGenerator(rescale = 1/255, validation_split=0.2)"
      ],
      "metadata": {
        "id": "TfoJagDIKdgb"
      },
      "execution_count": 7,
      "outputs": []
    },
    {
      "cell_type": "code",
      "source": [
        "train_generator = train_datagen.flow_from_directory(\n",
        "    train_dir,\n",
        "    target_size = (28,28),\n",
        "    batch_size = 128,\n",
        "    class_mode = 'categorical',\n",
        "    color_mode = 'grayscale',\n",
        "    subset = 'training'\n",
        ")\n",
        "\n",
        "validation_generator = test_datagen.flow_from_directory(\n",
        "    test_dir,\n",
        "    target_size = (28,28),\n",
        "    batch_size = 128,\n",
        "    class_mode = 'categorical',\n",
        "    color_mode = 'grayscale',\n",
        "    subset = 'validation'\n",
        ")\n",
        "\n",
        "test_generator = test_datagen.flow_from_directory(\n",
        "    test_dir,\n",
        "    target_size = (28,28),\n",
        "    batch_size = 128,\n",
        "    class_mode = 'categorical',\n",
        "    color_mode = 'grayscale'\n",
        ")"
      ],
      "metadata": {
        "colab": {
          "base_uri": "https://localhost:8080/"
        },
        "id": "QgDKGCxzKk0J",
        "outputId": "2d99964c-a415-4c4f-fbde-4c84f493b169"
      },
      "execution_count": 8,
      "outputs": [
        {
          "output_type": "stream",
          "name": "stdout",
          "text": [
            "Found 27455 images belonging to 24 classes.\n",
            "Found 1425 images belonging to 24 classes.\n",
            "Found 7172 images belonging to 24 classes.\n"
          ]
        }
      ]
    },
    {
      "cell_type": "markdown",
      "source": [
        "<h1>Neural Network Model</h1>\n",
        "<p>Here we create our model. Because we will work with many models, lets call the first as <i>model_base</i>.\n",
        "\n",
        "The layers should be stacked in a list. The first layer is the entry.\n",
        "\n",
        "This entry is:\n",
        "<i>tf.keras.layers.Flatten</i>\n",
        "<b>Flatten</b> indicates that the images, which in this case are $28\\times 28$, can be seen as a column vector.\n",
        "\n",
        "The size of the output, should be of the number of classes, which in our case is:\n",
        "*len(alphabetic_letters)*\n",
        "</p>\n",
        "\n",
        "<h3>Optimizer</h3>\n",
        "<p>Here we choose the our optimizer, namely how, the gradient descent will be applied. Addam optimizer varies the learning rate, it is computationally demmand, but fastter in some cases. \n",
        "</p>\n",
        "\n",
        "<h3>Loss function</h3>\n",
        "<p>categorical_crossentropy is widely used to classify, hence, we select such loss function for our problem, due its own characteristics.</p>\n",
        "\n",
        "<h3>Keras Tuner</h3>\n",
        "<p>In order to play with the hyperparameters, and obtain the best configuration acconding the accuracy, we use the keras tuner tool. This tool should be installing.</p>"
      ],
      "metadata": {
        "id": "vyK-5sJFKzMc"
      }
    },
    {
      "cell_type": "code",
      "source": [
        "!pip install keras-tuner --upgrade"
      ],
      "metadata": {
        "colab": {
          "base_uri": "https://localhost:8080/"
        },
        "id": "MGftk0ePg3Yu",
        "outputId": "3fd5ada7-fc6a-4dee-ac65-1e13aee73d37"
      },
      "execution_count": 9,
      "outputs": [
        {
          "output_type": "stream",
          "name": "stdout",
          "text": [
            "Collecting keras-tuner\n",
            "  Downloading keras_tuner-1.1.2-py3-none-any.whl (133 kB)\n",
            "\u001b[?25l\r\u001b[K     |██▌                             | 10 kB 15.1 MB/s eta 0:00:01\r\u001b[K     |█████                           | 20 kB 17.3 MB/s eta 0:00:01\r\u001b[K     |███████▍                        | 30 kB 11.3 MB/s eta 0:00:01\r\u001b[K     |█████████▉                      | 40 kB 9.8 MB/s eta 0:00:01\r\u001b[K     |████████████▎                   | 51 kB 5.0 MB/s eta 0:00:01\r\u001b[K     |██████████████▊                 | 61 kB 5.9 MB/s eta 0:00:01\r\u001b[K     |█████████████████▏              | 71 kB 6.0 MB/s eta 0:00:01\r\u001b[K     |███████████████████▋            | 81 kB 4.3 MB/s eta 0:00:01\r\u001b[K     |██████████████████████          | 92 kB 4.8 MB/s eta 0:00:01\r\u001b[K     |████████████████████████▌       | 102 kB 5.3 MB/s eta 0:00:01\r\u001b[K     |███████████████████████████     | 112 kB 5.3 MB/s eta 0:00:01\r\u001b[K     |█████████████████████████████▍  | 122 kB 5.3 MB/s eta 0:00:01\r\u001b[K     |███████████████████████████████▉| 133 kB 5.3 MB/s eta 0:00:01\r\u001b[K     |████████████████████████████████| 133 kB 5.3 MB/s \n",
            "\u001b[?25hRequirement already satisfied: packaging in /usr/local/lib/python3.7/dist-packages (from keras-tuner) (21.3)\n",
            "Collecting kt-legacy\n",
            "  Downloading kt_legacy-1.0.4-py3-none-any.whl (9.6 kB)\n",
            "Requirement already satisfied: numpy in /usr/local/lib/python3.7/dist-packages (from keras-tuner) (1.21.5)\n",
            "Requirement already satisfied: ipython in /usr/local/lib/python3.7/dist-packages (from keras-tuner) (5.5.0)\n",
            "Requirement already satisfied: tensorboard in /usr/local/lib/python3.7/dist-packages (from keras-tuner) (2.8.0)\n",
            "Requirement already satisfied: requests in /usr/local/lib/python3.7/dist-packages (from keras-tuner) (2.23.0)\n",
            "Requirement already satisfied: pygments in /usr/local/lib/python3.7/dist-packages (from ipython->keras-tuner) (2.6.1)\n",
            "Requirement already satisfied: pexpect in /usr/local/lib/python3.7/dist-packages (from ipython->keras-tuner) (4.8.0)\n",
            "Requirement already satisfied: traitlets>=4.2 in /usr/local/lib/python3.7/dist-packages (from ipython->keras-tuner) (5.1.1)\n",
            "Requirement already satisfied: decorator in /usr/local/lib/python3.7/dist-packages (from ipython->keras-tuner) (4.4.2)\n",
            "Requirement already satisfied: setuptools>=18.5 in /usr/local/lib/python3.7/dist-packages (from ipython->keras-tuner) (57.4.0)\n",
            "Requirement already satisfied: pickleshare in /usr/local/lib/python3.7/dist-packages (from ipython->keras-tuner) (0.7.5)\n",
            "Requirement already satisfied: simplegeneric>0.8 in /usr/local/lib/python3.7/dist-packages (from ipython->keras-tuner) (0.8.1)\n",
            "Requirement already satisfied: prompt-toolkit<2.0.0,>=1.0.4 in /usr/local/lib/python3.7/dist-packages (from ipython->keras-tuner) (1.0.18)\n",
            "Requirement already satisfied: six>=1.9.0 in /usr/local/lib/python3.7/dist-packages (from prompt-toolkit<2.0.0,>=1.0.4->ipython->keras-tuner) (1.15.0)\n",
            "Requirement already satisfied: wcwidth in /usr/local/lib/python3.7/dist-packages (from prompt-toolkit<2.0.0,>=1.0.4->ipython->keras-tuner) (0.2.5)\n",
            "Requirement already satisfied: pyparsing!=3.0.5,>=2.0.2 in /usr/local/lib/python3.7/dist-packages (from packaging->keras-tuner) (3.0.7)\n",
            "Requirement already satisfied: ptyprocess>=0.5 in /usr/local/lib/python3.7/dist-packages (from pexpect->ipython->keras-tuner) (0.7.0)\n",
            "Requirement already satisfied: idna<3,>=2.5 in /usr/local/lib/python3.7/dist-packages (from requests->keras-tuner) (2.10)\n",
            "Requirement already satisfied: chardet<4,>=3.0.2 in /usr/local/lib/python3.7/dist-packages (from requests->keras-tuner) (3.0.4)\n",
            "Requirement already satisfied: certifi>=2017.4.17 in /usr/local/lib/python3.7/dist-packages (from requests->keras-tuner) (2021.10.8)\n",
            "Requirement already satisfied: urllib3!=1.25.0,!=1.25.1,<1.26,>=1.21.1 in /usr/local/lib/python3.7/dist-packages (from requests->keras-tuner) (1.24.3)\n",
            "Requirement already satisfied: absl-py>=0.4 in /usr/local/lib/python3.7/dist-packages (from tensorboard->keras-tuner) (1.0.0)\n",
            "Requirement already satisfied: werkzeug>=0.11.15 in /usr/local/lib/python3.7/dist-packages (from tensorboard->keras-tuner) (1.0.1)\n",
            "Requirement already satisfied: tensorboard-data-server<0.7.0,>=0.6.0 in /usr/local/lib/python3.7/dist-packages (from tensorboard->keras-tuner) (0.6.1)\n",
            "Requirement already satisfied: tensorboard-plugin-wit>=1.6.0 in /usr/local/lib/python3.7/dist-packages (from tensorboard->keras-tuner) (1.8.1)\n",
            "Requirement already satisfied: markdown>=2.6.8 in /usr/local/lib/python3.7/dist-packages (from tensorboard->keras-tuner) (3.3.6)\n",
            "Requirement already satisfied: google-auth<3,>=1.6.3 in /usr/local/lib/python3.7/dist-packages (from tensorboard->keras-tuner) (1.35.0)\n",
            "Requirement already satisfied: grpcio>=1.24.3 in /usr/local/lib/python3.7/dist-packages (from tensorboard->keras-tuner) (1.44.0)\n",
            "Requirement already satisfied: protobuf>=3.6.0 in /usr/local/lib/python3.7/dist-packages (from tensorboard->keras-tuner) (3.17.3)\n",
            "Requirement already satisfied: wheel>=0.26 in /usr/local/lib/python3.7/dist-packages (from tensorboard->keras-tuner) (0.37.1)\n",
            "Requirement already satisfied: google-auth-oauthlib<0.5,>=0.4.1 in /usr/local/lib/python3.7/dist-packages (from tensorboard->keras-tuner) (0.4.6)\n",
            "Requirement already satisfied: cachetools<5.0,>=2.0.0 in /usr/local/lib/python3.7/dist-packages (from google-auth<3,>=1.6.3->tensorboard->keras-tuner) (4.2.4)\n",
            "Requirement already satisfied: rsa<5,>=3.1.4 in /usr/local/lib/python3.7/dist-packages (from google-auth<3,>=1.6.3->tensorboard->keras-tuner) (4.8)\n",
            "Requirement already satisfied: pyasn1-modules>=0.2.1 in /usr/local/lib/python3.7/dist-packages (from google-auth<3,>=1.6.3->tensorboard->keras-tuner) (0.2.8)\n",
            "Requirement already satisfied: requests-oauthlib>=0.7.0 in /usr/local/lib/python3.7/dist-packages (from google-auth-oauthlib<0.5,>=0.4.1->tensorboard->keras-tuner) (1.3.1)\n",
            "Requirement already satisfied: importlib-metadata>=4.4 in /usr/local/lib/python3.7/dist-packages (from markdown>=2.6.8->tensorboard->keras-tuner) (4.11.3)\n",
            "Requirement already satisfied: typing-extensions>=3.6.4 in /usr/local/lib/python3.7/dist-packages (from importlib-metadata>=4.4->markdown>=2.6.8->tensorboard->keras-tuner) (3.10.0.2)\n",
            "Requirement already satisfied: zipp>=0.5 in /usr/local/lib/python3.7/dist-packages (from importlib-metadata>=4.4->markdown>=2.6.8->tensorboard->keras-tuner) (3.7.0)\n",
            "Requirement already satisfied: pyasn1<0.5.0,>=0.4.6 in /usr/local/lib/python3.7/dist-packages (from pyasn1-modules>=0.2.1->google-auth<3,>=1.6.3->tensorboard->keras-tuner) (0.4.8)\n",
            "Requirement already satisfied: oauthlib>=3.0.0 in /usr/local/lib/python3.7/dist-packages (from requests-oauthlib>=0.7.0->google-auth-oauthlib<0.5,>=0.4.1->tensorboard->keras-tuner) (3.2.0)\n",
            "Installing collected packages: kt-legacy, keras-tuner\n",
            "Successfully installed keras-tuner-1.1.2 kt-legacy-1.0.4\n"
          ]
        }
      ]
    },
    {
      "cell_type": "code",
      "source": [
        "def model_constructor(hp):\n",
        "  model = tf.keras.models.Sequential()\n",
        "  model.add(tf.keras.layers.Conv2D(16, (3,3), activation='relu', input_shape = (28,28,1)))\n",
        "  model.add(tf.keras.layers.MaxPool2D((2,2)))\n",
        "  model.add(tf.keras.layers.Flatten())\n",
        "\n",
        "  hp_units = hp.Int('units', min_value = 32, max_value = 512, step = 32)\n",
        "  model.add(tf.keras.layers.Dense(units=hp_units, activation='relu',kernel_regularizer=tf.keras.regularizers.L2(l2=1e-5)))\n",
        "  model.add(tf.keras.layers.Dropout(0.22))\n",
        "  model.add(tf.keras.layers.Dense(units=128, activation='relu',kernel_regularizer=tf.keras.regularizers.L2(l2=1e-5)))\n",
        "  model.add(tf.keras.layers.Dropout(0.22))\n",
        "  model.add(tf.keras.layers.Dense(units=len(numeric_letters), activation='softmax'))\n",
        "\n",
        "  hp_learning_rate = hp.Choice('learning_rate', values = [1e-2, 1e-3, 1e-4])\n",
        "\n",
        "  model.compile(optimizer=tf.keras.optimizers.Adam(learning_rate=hp_learning_rate),loss = 'categorical_crossentropy', metrics = ['accuracy'] )\n",
        "  \n",
        "  return model  "
      ],
      "metadata": {
        "id": "GcpWje65Ko6d"
      },
      "execution_count": 18,
      "outputs": []
    },
    {
      "cell_type": "code",
      "source": [
        "import keras_tuner as kt"
      ],
      "metadata": {
        "id": "O1xC4FPdjGsS"
      },
      "execution_count": 11,
      "outputs": []
    },
    {
      "cell_type": "code",
      "source": [
        "auto_tuner = kt.Hyperband(\n",
        "    model_constructor,\n",
        "    objective='val_accuracy',\n",
        "    max_epochs = 10,\n",
        "    factor=3,\n",
        "    directory = 'models/',\n",
        "    project_name = 'Sign_Lenguaje_Model_Trainner'\n",
        "    )"
      ],
      "metadata": {
        "id": "V-el-imtgg32"
      },
      "execution_count": 20,
      "outputs": []
    },
    {
      "cell_type": "code",
      "source": [
        "auto_tuner.search(train_generator, epochs=10, validation_data=validation_generator)\n",
        "\n",
        "best_hps = auto_tuner.get_best_hyperparameters(num_trials=2)"
      ],
      "metadata": {
        "colab": {
          "base_uri": "https://localhost:8080/"
        },
        "id": "lrP-n6OPLFu0",
        "outputId": "7bc2329a-664b-4230-b773-56eae96ee189"
      },
      "execution_count": 21,
      "outputs": [
        {
          "output_type": "stream",
          "name": "stdout",
          "text": [
            "Trial 30 Complete [00h 03m 41s]\n",
            "val_accuracy: 0.8582456111907959\n",
            "\n",
            "Best val_accuracy So Far: 0.8771929740905762\n",
            "Total elapsed time: 00h 38m 46s\n",
            "INFO:tensorflow:Oracle triggered exit\n"
          ]
        }
      ]
    },
    {
      "cell_type": "code",
      "source": [
        "best_hyperparameters = auto_tuner.get_best_hyperparameters(num_trials=2)[0]"
      ],
      "metadata": {
        "id": "5DAgTnKjivek"
      },
      "execution_count": 22,
      "outputs": []
    },
    {
      "cell_type": "code",
      "source": [
        "callback_early_stopping = tf.keras.callbacks.EarlyStopping(monitor='loss', patience=3, mode='min')"
      ],
      "metadata": {
        "id": "Rb7RQiKhnvHb"
      },
      "execution_count": 27,
      "outputs": []
    },
    {
      "cell_type": "code",
      "source": [
        "hypermodel=auto_tuner.hypermodel.build(best_hyperparameters)"
      ],
      "metadata": {
        "id": "v5H0a3zEtF56"
      },
      "execution_count": null,
      "outputs": []
    },
    {
      "cell_type": "markdown",
      "source": [
        "<h1>Saving the model</h1>\n",
        "<p>Here we learn to save the model, first saving the architecture in a jason format, which is basically a dictionary, and the weights into a .cktp file</p>"
      ],
      "metadata": {
        "id": "jneZvsVapxYr"
      }
    },
    {
      "cell_type": "markdown",
      "source": [
        "<h3>Saving the architecture</h3>"
      ],
      "metadata": {
        "id": "_Q_O4utttt-N"
      }
    },
    {
      "cell_type": "code",
      "source": [
        "hypermodel_architecture = hypermodel.get_config() "
      ],
      "metadata": {
        "id": "x0sDoN4YpePb"
      },
      "execution_count": 29,
      "outputs": []
    },
    {
      "cell_type": "code",
      "source": [
        "import json\n",
        "\n",
        "with open(os.path.join(WORK_DIRECTORY,'hypermodel_architecture.json'), 'w') as fp:\n",
        "    json.dump(hypermodel_architecture, fp)"
      ],
      "metadata": {
        "id": "x251_CvEqk1P"
      },
      "execution_count": 30,
      "outputs": []
    },
    {
      "cell_type": "markdown",
      "source": [
        "<h3> Saving the weights</h3>"
      ],
      "metadata": {
        "id": "bgiglrADt6vk"
      }
    },
    {
      "cell_type": "code",
      "source": [
        "from tensorflow.keras.callbacks import ModelCheckpoint"
      ],
      "metadata": {
        "id": "HqifvoXVsTVi"
      },
      "execution_count": 31,
      "outputs": []
    },
    {
      "cell_type": "code",
      "source": [
        "checkpoint_path = os.path.join(WORK_DIRECTORY, 'checkpoints')\n",
        "checkpoint_weights = ModelCheckpoint(\n",
        "    filepath = checkpoint_path,\n",
        "    frequency = 'epoch',\n",
        "    save_weights_only = True,\n",
        "    verbose = 1\n",
        ")"
      ],
      "metadata": {
        "id": "V5EVIRoctn2H"
      },
      "execution_count": 34,
      "outputs": []
    },
    {
      "cell_type": "code",
      "source": [
        "trainner_hypermodel = hypermodel.fit(\n",
        "    train_generator,\n",
        "    epochs = 20,\n",
        "    callbacks = [callback_early_stopping, checkpoint_weights],\n",
        "    validation_data = validation_generator\n",
        ")"
      ],
      "metadata": {
        "colab": {
          "base_uri": "https://localhost:8080/"
        },
        "id": "AdBLOmidmESu",
        "outputId": "a3fb0a24-dfdc-4dc6-a41e-75ce690150b2"
      },
      "execution_count": 35,
      "outputs": [
        {
          "output_type": "stream",
          "name": "stdout",
          "text": [
            "Epoch 1/20\n",
            "215/215 [==============================] - ETA: 0s - loss: 0.0235 - accuracy: 0.9988\n",
            "Epoch 1: saving model to /content/gdrive/MyDrive/Portafolio/SignLenguaje/checkpoints\n",
            "215/215 [==============================] - 22s 102ms/step - loss: 0.0235 - accuracy: 0.9988 - val_loss: 0.8008 - val_accuracy: 0.8730\n",
            "Epoch 2/20\n",
            "215/215 [==============================] - ETA: 0s - loss: 0.0236 - accuracy: 0.9987\n",
            "Epoch 2: saving model to /content/gdrive/MyDrive/Portafolio/SignLenguaje/checkpoints\n",
            "215/215 [==============================] - 21s 96ms/step - loss: 0.0236 - accuracy: 0.9987 - val_loss: 0.6599 - val_accuracy: 0.8709\n",
            "Epoch 3/20\n",
            "215/215 [==============================] - ETA: 0s - loss: 0.0235 - accuracy: 0.9985\n",
            "Epoch 3: saving model to /content/gdrive/MyDrive/Portafolio/SignLenguaje/checkpoints\n",
            "215/215 [==============================] - 21s 97ms/step - loss: 0.0235 - accuracy: 0.9985 - val_loss: 0.7647 - val_accuracy: 0.8737\n",
            "Epoch 4/20\n",
            "215/215 [==============================] - ETA: 0s - loss: 0.0220 - accuracy: 0.9991\n",
            "Epoch 4: saving model to /content/gdrive/MyDrive/Portafolio/SignLenguaje/checkpoints\n",
            "215/215 [==============================] - 21s 95ms/step - loss: 0.0220 - accuracy: 0.9991 - val_loss: 0.7856 - val_accuracy: 0.8674\n",
            "Epoch 5/20\n",
            "215/215 [==============================] - ETA: 0s - loss: 0.0220 - accuracy: 0.9989\n",
            "Epoch 5: saving model to /content/gdrive/MyDrive/Portafolio/SignLenguaje/checkpoints\n",
            "215/215 [==============================] - 21s 97ms/step - loss: 0.0220 - accuracy: 0.9989 - val_loss: 0.8904 - val_accuracy: 0.8477\n",
            "Epoch 6/20\n",
            "215/215 [==============================] - ETA: 0s - loss: 0.0256 - accuracy: 0.9976\n",
            "Epoch 6: saving model to /content/gdrive/MyDrive/Portafolio/SignLenguaje/checkpoints\n",
            "215/215 [==============================] - 21s 98ms/step - loss: 0.0256 - accuracy: 0.9976 - val_loss: 0.8719 - val_accuracy: 0.8611\n",
            "Epoch 7/20\n",
            "215/215 [==============================] - ETA: 0s - loss: 0.0228 - accuracy: 0.9987\n",
            "Epoch 7: saving model to /content/gdrive/MyDrive/Portafolio/SignLenguaje/checkpoints\n",
            "215/215 [==============================] - 21s 99ms/step - loss: 0.0228 - accuracy: 0.9987 - val_loss: 0.8257 - val_accuracy: 0.8639\n",
            "Epoch 8/20\n",
            "215/215 [==============================] - ETA: 0s - loss: 0.0221 - accuracy: 0.9990\n",
            "Epoch 8: saving model to /content/gdrive/MyDrive/Portafolio/SignLenguaje/checkpoints\n",
            "215/215 [==============================] - 21s 97ms/step - loss: 0.0221 - accuracy: 0.9990 - val_loss: 0.8410 - val_accuracy: 0.8660\n"
          ]
        }
      ]
    },
    {
      "cell_type": "code",
      "source": [
        ""
      ],
      "metadata": {
        "id": "MLz2jeJDs1wC"
      },
      "execution_count": null,
      "outputs": []
    }
  ]
}